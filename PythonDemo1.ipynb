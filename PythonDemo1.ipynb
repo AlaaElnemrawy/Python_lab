cells": [
  {
   "cell_type": "markdown",
   "metadata": {
    "hideCode": false,
    "hidePrompt": false
   }
]
